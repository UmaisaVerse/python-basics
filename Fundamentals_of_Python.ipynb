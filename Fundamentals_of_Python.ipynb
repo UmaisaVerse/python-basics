{
  "nbformat": 4,
  "nbformat_minor": 0,
  "metadata": {
    "colab": {
      "provenance": []
    },
    "kernelspec": {
      "name": "python3",
      "display_name": "Python 3"
    },
    "language_info": {
      "name": "python"
    }
  },
  "cells": [
    {
      "cell_type": "markdown",
      "source": [
        "## **Objective:**\n",
        "This assignment will test your understanding of basic Python syntax, including the use of the print() function, variables, different datatypes, and decision-making using if-else statements."
      ],
      "metadata": {
        "id": "nQN215g5UBpI"
      }
    },
    {
      "cell_type": "markdown",
      "source": [
        "## **Problem 1: Temperature Converter**\n",
        "Write a Python program that:\n",
        "1. Takes temperature input from the user in Celsius.\n",
        "2. Converts the temperature to Fahrenheit using the formula:  \n",
        " `Fahrenheit = (Celsius × 9/5) + 32`\n",
        "3. Prints both the Celsius and Fahrenheit temperatures in a well-formatted way.\n",
        "4. Use an `if-else` statement to check if the temperature is below freezing (0°C), between 0°C and 30°C, or above 30°C. Print appropriate messages for each case.\n",
        "5. Temp < 0: The temp is freezing\n",
        "6. Temp < 30: The temp is moderate\n",
        "7. Temp > 30: Temp is hot\n"
      ],
      "metadata": {
        "id": "yKH415NfUTYP"
      }
    },
    {
      "cell_type": "code",
      "source": [
        "Celsius = int(input(\"Kindly enter the temperature in Celsius: \"))\n",
        "Fahrenheit = (Celsius * 9/5) + 32\n",
        "print(\"Temperature in Celsius:\", Celsius)\n",
        "print(\"Temperature in Fahrenheit:\", Fahrenheit)\n",
        "temp_C = Celsius\n",
        "\n",
        "if temp_C < 0:\n",
        "  print(\"The temperature is Freezing. \")\n",
        "elif temp_C < 30:\n",
        "  print(\"The temperature is moderate. \")\n",
        "else:\n",
        "  print(\"The temperature is hot\")\n"
      ],
      "metadata": {
        "id": "JGJOs8fkVo4S",
        "colab": {
          "base_uri": "https://localhost:8080/"
        },
        "outputId": "b7a1c239-ea81-411a-ced6-104031d025f6"
      },
      "execution_count": 1,
      "outputs": [
        {
          "output_type": "stream",
          "name": "stdout",
          "text": [
            "Kindly enter the temperature in Celsius: 69\n",
            "Temperature in Celsius: 69\n",
            "Temperature in Fahrenheit: 156.2\n",
            "The temperature is hot\n"
          ]
        }
      ]
    },
    {
      "cell_type": "markdown",
      "source": [
        "## **Problem 2: Simple Calculator**\n",
        "Write a Python program that:\n",
        "1. Takes two numbers as input from the user (you may assume the inputs are valid integers or floats).\n",
        "2. Asks the user which operation they want to perform: addition, subtraction, multiplication, or division.\n",
        "3. Performs the selected operation and prints the result.\n",
        "4. Ensure that if the user chooses division, the program checks for division by zero and prints an appropriate message.\n"
      ],
      "metadata": {
        "id": "TJawZ4RtUrlQ"
      }
    },
    {
      "cell_type": "code",
      "source": [
        "num_1 = int(input(\"Kindly enter first number: \"))\n",
        "num_2 = int(input(\"Kindly enter second number: \"))\n",
        "\n",
        "cal_num = input(\"Press 1 for Addition, 2 for Subtraction, 3 for Multiplication and 4 for Division. \")\n",
        "\n",
        "if cal_num == \"1\":\n",
        "  result = num_1 + num_2\n",
        "  print(f\"The result of Addition is: {result}\")\n",
        "\n",
        "elif cal_num == \"2\":\n",
        "  result = num_1 - num_2\n",
        "  print(f\"The result of Subtraction is: {result}\")\n",
        "\n",
        "elif cal_num == \"3\":\n",
        "  result = num_1 * num_2\n",
        "  print(f\"The result of Multiplication is: {result}\")\n",
        "\n",
        "elif cal_num == \"4\":\n",
        "    if num_2 != 0:\n",
        "        result = num_1 / num_2\n",
        "        print(f\"The result of Division is: {result}\")\n",
        "    else:\n",
        "        print(\"Error: Division by zero is not allowed.\")\n",
        "else:\n",
        "    print(\"Invalid operation. Please choose from addition, subtraction, multiplication, or division.\")"
      ],
      "metadata": {
        "id": "rh5M7j3JVpPY",
        "colab": {
          "base_uri": "https://localhost:8080/"
        },
        "outputId": "1318073b-66ac-44d1-d387-d47b39ac0a01"
      },
      "execution_count": 11,
      "outputs": [
        {
          "output_type": "stream",
          "name": "stdout",
          "text": [
            "Kindly enter first number: 9\n",
            "Kindly enter second number: 0\n",
            "Press 1 for Addition, 2 for Subtraction, 3 for Multiplication and 4 for Division. 4\n",
            "Error: Division by zero is not allowed.\n"
          ]
        }
      ]
    },
    {
      "cell_type": "markdown",
      "source": [
        "## **Problem 3: Even or Odd?**\n",
        "Write a Python program that:\n",
        "1. Takes an integer input from the user.\n",
        "2. Uses an `if-else` statement to determine if the number is even or odd.\n",
        "3. Print whether the number is even or odd."
      ],
      "metadata": {
        "id": "j5XX4j6RUuNw"
      }
    },
    {
      "cell_type": "code",
      "source": [
        "num = int(input(\"Kindly enter your number: \"))\n",
        "if num % 2 == 0:\n",
        "  print(\"The number is Even. \")\n",
        "else:\n",
        "  print(\"The number is odd\")"
      ],
      "metadata": {
        "id": "K_pCGcC0VpjY",
        "colab": {
          "base_uri": "https://localhost:8080/"
        },
        "outputId": "5a470587-0a55-49c7-cd56-b2df873d1b11"
      },
      "execution_count": 12,
      "outputs": [
        {
          "output_type": "stream",
          "name": "stdout",
          "text": [
            "Kindly enter your number: 9\n",
            "The number is odd\n"
          ]
        }
      ]
    },
    {
      "cell_type": "markdown",
      "source": [
        "## **Problem 4: Age and Voting Eligibility**\n",
        "Write a Python program that:\n",
        "1. Takes the user's age as input.\n",
        "2. Uses an `if-else` statement to check if the user is eligible to vote (age 18 and above).\n",
        "3. Prints a message letting the user know whether they are eligible or not."
      ],
      "metadata": {
        "id": "x5UVXbQ2UxQv"
      }
    },
    {
      "cell_type": "code",
      "source": [
        "user_age = int(input(\"Kindly enter your age: \"))\n",
        "if user_age >= 18:\n",
        "  print(\"You are an Adult! You are eligible to vote. \")\n",
        "else:\n",
        "  print(\"You are a Kid! You are not eligible to vote. \")"
      ],
      "metadata": {
        "id": "VoLiCf5zVr2Q",
        "colab": {
          "base_uri": "https://localhost:8080/"
        },
        "outputId": "b3bbdf6f-cb08-4443-e278-d4937f7d0cba"
      },
      "execution_count": 13,
      "outputs": [
        {
          "output_type": "stream",
          "name": "stdout",
          "text": [
            "Kindly enter your age: 25\n",
            "You are an Adult! You are eligible to vote. \n"
          ]
        }
      ]
    },
    {
      "cell_type": "markdown",
      "source": [
        "## **Problem 5: Grading System**\n",
        "Write a Python program that:\n",
        "1. Takes the score (out of 100) as input from the user.\n",
        "2. Uses `if-else` statements to print the corresponding grade based on the score:\n",
        "   - 90 and above: A\n",
        "   - 80-89: B\n",
        "   - 70-79: C\n",
        "   - 60-69: D\n",
        "   - Below 60: F"
      ],
      "metadata": {
        "id": "9VBsEp9eUzYP"
      }
    },
    {
      "cell_type": "code",
      "source": [
        "user_score = int(input(\"Kindly enter your score: \"))\n",
        "if user_score >= 90:\n",
        "  print(\"You got Grade A. \")\n",
        "elif 80 <= user_score <= 89:\n",
        "  print(\"You got Grade B. \")\n",
        "elif 70 <= user_score <= 79:\n",
        "  print(\"You got Grade C. \")\n",
        "elif 60 <= user_score <= 69:\n",
        "  print(\"You got Grade D. \")\n",
        "else:\n",
        "  print(\"You got Grade F. \")"
      ],
      "metadata": {
        "id": "VaCYzDm_UJtg",
        "colab": {
          "base_uri": "https://localhost:8080/"
        },
        "outputId": "d2b38d08-ac6c-4684-f164-fd7de0ce9a4d"
      },
      "execution_count": 14,
      "outputs": [
        {
          "output_type": "stream",
          "name": "stdout",
          "text": [
            "Kindly enter your score: 51\n",
            "You got Grade F. \n"
          ]
        }
      ]
    }
  ]
}